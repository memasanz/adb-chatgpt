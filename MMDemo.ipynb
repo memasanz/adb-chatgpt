{
 "cells": [
  {
   "cell_type": "code",
   "execution_count": 0,
   "metadata": {
    "application/vnd.databricks.v1+cell": {
     "cellMetadata": {
      "byteLimit": 2048000,
      "rowLimit": 10000
     },
     "inputWidgets": {},
     "nuid": "cdd18a6e-af9b-4f5b-bf7e-74f3c37aff29",
     "showTitle": false,
     "title": ""
    }
   },
   "outputs": [
    {
     "output_type": "stream",
     "name": "stdout",
     "output_type": "stream",
     "text": [
      "Requirement already satisfied: openai in /local_disk0/.ephemeral_nfs/envs/pythonEnv-00cba43b-cee4-4742-b8e0-02473b03c7c1/lib/python3.9/site-packages (0.27.4)\r\nRequirement already satisfied: tqdm in /local_disk0/.ephemeral_nfs/envs/pythonEnv-00cba43b-cee4-4742-b8e0-02473b03c7c1/lib/python3.9/site-packages (from openai) (4.65.0)\r\nRequirement already satisfied: requests>=2.20 in /databricks/python3/lib/python3.9/site-packages (from openai) (2.27.1)\r\nRequirement already satisfied: aiohttp in /local_disk0/.ephemeral_nfs/envs/pythonEnv-00cba43b-cee4-4742-b8e0-02473b03c7c1/lib/python3.9/site-packages (from openai) (3.8.4)\r\nRequirement already satisfied: idna<4,>=2.5 in /databricks/python3/lib/python3.9/site-packages (from requests>=2.20->openai) (3.3)\r\nRequirement already satisfied: charset-normalizer~=2.0.0 in /databricks/python3/lib/python3.9/site-packages (from requests>=2.20->openai) (2.0.4)\r\nRequirement already satisfied: urllib3<1.27,>=1.21.1 in /databricks/python3/lib/python3.9/site-packages (from requests>=2.20->openai) (1.26.9)\r\nRequirement already satisfied: certifi>=2017.4.17 in /databricks/python3/lib/python3.9/site-packages (from requests>=2.20->openai) (2021.10.8)\r\nRequirement already satisfied: frozenlist>=1.1.1 in /local_disk0/.ephemeral_nfs/envs/pythonEnv-00cba43b-cee4-4742-b8e0-02473b03c7c1/lib/python3.9/site-packages (from aiohttp->openai) (1.3.3)\r\nRequirement already satisfied: yarl<2.0,>=1.0 in /local_disk0/.ephemeral_nfs/envs/pythonEnv-00cba43b-cee4-4742-b8e0-02473b03c7c1/lib/python3.9/site-packages (from aiohttp->openai) (1.8.2)\r\nRequirement already satisfied: async-timeout<5.0,>=4.0.0a3 in /local_disk0/.ephemeral_nfs/envs/pythonEnv-00cba43b-cee4-4742-b8e0-02473b03c7c1/lib/python3.9/site-packages (from aiohttp->openai) (4.0.2)\r\nRequirement already satisfied: aiosignal>=1.1.2 in /local_disk0/.ephemeral_nfs/envs/pythonEnv-00cba43b-cee4-4742-b8e0-02473b03c7c1/lib/python3.9/site-packages (from aiohttp->openai) (1.3.1)\r\nRequirement already satisfied: multidict<7.0,>=4.5 in /local_disk0/.ephemeral_nfs/envs/pythonEnv-00cba43b-cee4-4742-b8e0-02473b03c7c1/lib/python3.9/site-packages (from aiohttp->openai) (6.0.4)\r\nRequirement already satisfied: attrs>=17.3.0 in /databricks/python3/lib/python3.9/site-packages (from aiohttp->openai) (21.4.0)\r\n\u001B[33mWARNING: You are using pip version 21.2.4; however, version 23.0.1 is available.\r\nYou should consider upgrading via the '/local_disk0/.ephemeral_nfs/envs/pythonEnv-00cba43b-cee4-4742-b8e0-02473b03c7c1/bin/python -m pip install --upgrade pip' command.\u001B[0m\r\n"
     ]
    }
   ],
   "source": [
    "!pip install openai"
   ]
  },
  {
   "cell_type": "code",
   "execution_count": 0,
   "metadata": {
    "application/vnd.databricks.v1+cell": {
     "cellMetadata": {
      "byteLimit": 2048000,
      "rowLimit": 10000
     },
     "inputWidgets": {},
     "nuid": "59e0efda-2a66-4a62-a5bb-3ba802ce94be",
     "showTitle": false,
     "title": ""
    }
   },
   "outputs": [],
   "source": [
    "dbutils.widgets.text(\"AskChatGPT\", \"Write me an email\")\n",
    "AZURE_OPENAI_API_KEY = dbutils.secrets.get(scope=\"secrets\",key=\"AZUREOPENAIAPIKEY\")\n",
    "\n",
    "dbutils.widgets.dropdown(\"state\", \"keep\", [\"keep\", \"reset\"])\n",
    "if dbutils.widgets.get(\"state\") == \"reset\" or messages == None:\n",
    "    messages = [{'role': 'system','content': 'You are an AI assistant that helps people find information.'}]\n",
    "try:\n",
    "    dbutils.widgets.remove(\"Response\")\n",
    "except:\n",
    "    pass"
   ]
  },
  {
   "cell_type": "code",
   "execution_count": 0,
   "metadata": {
    "application/vnd.databricks.v1+cell": {
     "cellMetadata": {
      "byteLimit": 2048000,
      "rowLimit": 10000
     },
     "inputWidgets": {},
     "nuid": "5b135796-f7a7-4612-a848-a249d187e0ec",
     "showTitle": false,
     "title": ""
    }
   },
   "outputs": [],
   "source": [
    "text = dbutils.widgets.get(\"AskChatGPT\")\n",
    "try:\n",
    "    dbutils.widgets.remove(\"Response\")\n",
    "except:\n",
    "    pass"
   ]
  },
  {
   "cell_type": "code",
   "execution_count": 0,
   "metadata": {
    "application/vnd.databricks.v1+cell": {
     "cellMetadata": {
      "byteLimit": 2048000,
      "rowLimit": 10000
     },
     "inputWidgets": {},
     "nuid": "f29b7b06-8875-411c-a694-3ce5ae10a1c3",
     "showTitle": false,
     "title": ""
    }
   },
   "outputs": [
    {
     "output_type": "stream",
     "name": "stdout",
     "output_type": "stream",
     "text": [
      "what are the tracks made of?\n[{'role': 'system', 'content': 'You are an AI assistant that helps people find information.'}, {'role': 'user', 'content': 'what are the tracks made of?'}, {'role': 'user', 'content': 'what are the tracks made of?'}, {'role': 'user', 'content': 'what are trains?'}, {'role': 'assistant', 'content': 'Trains are a form of transportation that typically run on tracks made of steel rails. The tracks are usually set on a bed of ballast, which is made of crushed stone or other materials. Trains can be powered by electricity, diesel fuel, or steam, and they are used to transport people and goods over long distances. Trains can vary in size from small local commuter trains to large freight trains that can be over a mile long.'}, {'role': 'user', 'content': 'what are the tracks made of?'}, {'role': 'assistant', 'content': 'The tracks of a railway are typically made of steel rails that are fastened to wooden or concrete ties (sleepers) that are embedded in a bed of ballast. The rails are usually made of high-strength steel and are designed to withstand the weight of heavy trains and resist wear and tear from constant use. The ballast, which is the layer of crushed stone or gravel that the ties sit on, helps to distribute the weight of the trains evenly and provides a stable base for the tracks. The exact materials and construction methods used for railway tracks can vary depending on factors such as the location, climate, and intended use of the tracks.'}, {'role': 'user', 'content': 'what are the tracks made of?'}]\n"
     ]
    }
   ],
   "source": [
    "print(text)\n",
    "data = {\"role\":\"user\",\"content\":text}\n",
    "messages.append(data)\n",
    "print(messages)\n"
   ]
  },
  {
   "cell_type": "code",
   "execution_count": 0,
   "metadata": {
    "application/vnd.databricks.v1+cell": {
     "cellMetadata": {
      "byteLimit": 2048000,
      "rowLimit": 10000
     },
     "inputWidgets": {},
     "nuid": "930f2500-6993-49ea-ac71-19561735da39",
     "showTitle": false,
     "title": ""
    }
   },
   "outputs": [],
   "source": [
    "#Note: The openai-python library support for Azure OpenAI is in preview.\n",
    "import os\n",
    "import openai\n",
    "openai.api_type = \"azure\"\n",
    "openai.api_base = \"https://xmm-openai.openai.azure.com/\"\n",
    "openai.api_version = \"2023-03-15-preview\"\n",
    "openai.api_key = AZURE_OPENAI_API_KEY\n",
    "\n",
    "#Note: The openai-python library support for Azure OpenAI is in preview.\n",
    "response = openai.ChatCompletion.create(\n",
    "  engine=\"gpt-35-turbo\",\n",
    "  messages = messages,\n",
    "  temperature=0.5,\n",
    "  max_tokens=800,\n",
    "  top_p=0.95,\n",
    "  frequency_penalty=0,\n",
    "  presence_penalty=0,\n",
    "  stop=None)\n",
    "\n",
    "content = response['choices'][0]['message']['content']\n",
    "role = response['choices'][0]['message']['role']"
   ]
  },
  {
   "cell_type": "code",
   "execution_count": 0,
   "metadata": {
    "application/vnd.databricks.v1+cell": {
     "cellMetadata": {
      "byteLimit": 2048000,
      "rowLimit": 10000
     },
     "inputWidgets": {},
     "nuid": "286a9d85-d551-4f99-ba80-63d9c0432909",
     "showTitle": false,
     "title": ""
    }
   },
   "outputs": [],
   "source": [
    "data = {\"role\":role,\"content\":content}\n",
    "messages.append(data)"
   ]
  },
  {
   "cell_type": "code",
   "execution_count": 0,
   "metadata": {
    "application/vnd.databricks.v1+cell": {
     "cellMetadata": {
      "byteLimit": 2048000,
      "rowLimit": 10000
     },
     "inputWidgets": {},
     "nuid": "89ad905d-c480-4ea8-b737-302ed127e508",
     "showTitle": false,
     "title": ""
    }
   },
   "outputs": [],
   "source": [
    "messages\n",
    "dbutils.widgets.text(\"Response\", content)"
   ]
  },
  {
   "cell_type": "code",
   "execution_count": 0,
   "metadata": {
    "application/vnd.databricks.v1+cell": {
     "cellMetadata": {
      "byteLimit": 2048000,
      "rowLimit": 10000
     },
     "inputWidgets": {},
     "nuid": "70d2037f-203a-4664-84f2-6cc929d21cc1",
     "showTitle": false,
     "title": ""
    }
   },
   "outputs": [
    {
     "output_type": "stream",
     "name": "stdout",
     "output_type": "stream",
     "text": [
      "Out[272]: [{'role': 'system',\n  'content': 'You are an AI assistant that helps people find information.'},\n {'role': 'user', 'content': 'what are the tracks made of?'},\n {'role': 'user', 'content': 'what are the tracks made of?'},\n {'role': 'user', 'content': 'what are trains?'},\n {'role': 'assistant',\n  'content': 'Trains are a form of transportation that typically run on tracks made of steel rails. The tracks are usually set on a bed of ballast, which is made of crushed stone or other materials. Trains can be powered by electricity, diesel fuel, or steam, and they are used to transport people and goods over long distances. Trains can vary in size from small local commuter trains to large freight trains that can be over a mile long.'},\n {'role': 'user', 'content': 'what are the tracks made of?'},\n {'role': 'assistant',\n  'content': 'The tracks of a railway are typically made of steel rails that are fastened to wooden or concrete ties (sleepers) that are embedded in a bed of ballast. The rails are usually made of high-strength steel and are designed to withstand the weight of heavy trains and resist wear and tear from constant use. The ballast, which is the layer of crushed stone or gravel that the ties sit on, helps to distribute the weight of the trains evenly and provides a stable base for the tracks. The exact materials and construction methods used for railway tracks can vary depending on factors such as the location, climate, and intended use of the tracks.'},\n {'role': 'user', 'content': 'what are the tracks made of?'},\n {'role': 'assistant',\n  'content': 'The tracks of a railway are typically made of steel rails that are fastened to wooden or concrete ties (sleepers) that are embedded in a bed of ballast. The rails are usually made of high-strength steel and are designed to withstand the weight of heavy trains and resist wear and tear from constant use. The ballast, which is the layer of crushed stone or gravel that the ties sit on, helps to distribute the weight of the trains evenly and provides a stable base for the tracks. The exact materials and construction methods used for railway tracks can vary depending on factors such as the location, climate, and intended use of the tracks.'}]"
     ]
    }
   ],
   "source": [
    "messages"
   ]
  },
  {
   "cell_type": "code",
   "execution_count": 0,
   "metadata": {
    "application/vnd.databricks.v1+cell": {
     "cellMetadata": {
      "byteLimit": 2048000,
      "rowLimit": 10000
     },
     "inputWidgets": {},
     "nuid": "d11d46de-e658-4145-8d64-716b11395a79",
     "showTitle": false,
     "title": ""
    }
   },
   "outputs": [],
   "source": []
  }
 ],
 "metadata": {
  "application/vnd.databricks.v1+notebook": {
   "dashboards": [],
   "language": "python",
   "notebookMetadata": {
    "pythonIndentUnit": 4,
    "widgetLayout": [
     {
      "breakBefore": false,
      "name": "AskChatGPT",
      "width": 195
     },
     {
      "breakBefore": false,
      "name": "Response",
      "width": 1042
     }
    ]
   },
   "notebookName": "MMDemo",
   "notebookOrigID": 733715591693834,
   "widgets": {
    "AskChatGPT": {
     "currentValue": "what are the tracks made of?",
     "nuid": "c0937c59-a8af-4a66-a5c5-9be3bea05990",
     "widgetInfo": {
      "widgetType": "text",
      "defaultValue": "Write me an email",
      "label": null,
      "name": "AskChatGPT",
      "options": {
       "widgetType": "text",
       "validationRegex": null
      }
     }
    },
    "Response": {
     "currentValue": "The tracks of a railway are typically made of steel rails that are fastened to wooden or concrete ties (sleepers) that are embedded in a bed of ballast. The rails are usually made of high-strength steel and are designed to withstand the weight of heavy trains and resist wear and tear from constant use. The ballast, which is the layer of crushed stone or gravel that the ties sit on, helps to distribute the weight of the trains evenly and provides a stable base for the tracks. The exact materials and construction methods used for railway tracks can vary depending on factors such as the location, climate, and intended use of the tracks.",
     "nuid": "656d4ade-1d42-4d11-bfd1-fe51fc2064d2",
     "widgetInfo": {
      "widgetType": "text",
      "defaultValue": "The tracks of a railway are typically made of steel rails that are fastened to wooden or concrete ties (sleepers) that are embedded in a bed of ballast. The rails are usually made of high-strength steel and are designed to withstand the weight of heavy trains and resist wear and tear from constant use. The ballast, which is the layer of crushed stone or gravel that the ties sit on, helps to distribute the weight of the trains evenly and provides a stable base for the tracks. The exact materials and construction methods used for railway tracks can vary depending on factors such as the location, climate, and intended use of the tracks.",
      "label": null,
      "name": "Response",
      "options": {
       "widgetType": "text",
       "validationRegex": null
      }
     }
    },
    "state": {
     "currentValue": "keep",
     "nuid": "0ff180a8-1bf0-4627-9059-ff7bb541b85c",
     "widgetInfo": {
      "widgetType": "dropdown",
      "defaultValue": "keep",
      "label": null,
      "name": "state",
      "options": {
       "widgetType": "dropdown",
       "choices": [
        "keep",
        "reset"
       ]
      }
     }
    }
   }
  }
 },
 "nbformat": 4,
 "nbformat_minor": 0
}
